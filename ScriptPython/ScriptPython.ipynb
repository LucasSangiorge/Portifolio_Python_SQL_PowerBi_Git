{
 "cells": [
  {
   "cell_type": "code",
   "execution_count": 6,
   "id": "d9232753",
   "metadata": {},
   "outputs": [],
   "source": [
    "import pandas as pd\n",
    "import psycopg2\n",
    "from sqlalchemy import create_engine, Integer, String, Date, VARCHAR, text # import psycog2\n",
    "from datetime import datetime,timedelta"
   ]
  },
  {
   "cell_type": "code",
   "execution_count": null,
   "id": "fef40202",
   "metadata": {},
   "outputs": [
    {
     "ename": "NameError",
     "evalue": "name 'df' is not defined",
     "output_type": "error",
     "traceback": [
      "\u001b[31m---------------------------------------------------------------------------\u001b[39m",
      "\u001b[31mNameError\u001b[39m                                 Traceback (most recent call last)",
      "\u001b[36mCell\u001b[39m\u001b[36m \u001b[39m\u001b[32mIn[7]\u001b[39m\u001b[32m, line 2\u001b[39m\n\u001b[32m      1\u001b[39m pasta_destino_json= \u001b[33mr\u001b[39m\u001b[33m\"\u001b[39m\u001b[33mC:\u001b[39m\u001b[33m\\\u001b[39m\u001b[33mUsers\u001b[39m\u001b[33m\\\u001b[39m\u001b[33mlucas\u001b[39m\u001b[33m\\\u001b[39m\u001b[33mOneDrive\u001b[39m\u001b[33m\\\u001b[39m\u001b[33mPortfólio\u001b[39m\u001b[33m\\\u001b[39m\u001b[33mArquivo_Original\u001b[39m\u001b[33m\"\u001b[39m\n\u001b[32m----> \u001b[39m\u001b[32m2\u001b[39m \u001b[43mdf\u001b[49m.to_json(pasta_destino_json,orient=\u001b[33m\"\u001b[39m\u001b[33mrecords\u001b[39m\u001b[33m\"\u001b[39m,lines=\u001b[38;5;28;01mTrue\u001b[39;00m)\n\u001b[32m      3\u001b[39m df = pd.read_json(caminho_do_arquivo, encoding=\u001b[33m'\u001b[39m\u001b[33mutf-8-sig\u001b[39m\u001b[33m'\u001b[39m)\u001b[38;5;66;03m##Esse comando serve para pegar o nosso arquivo json que e todo bagunçado e traduzir para o ecoding 'utf-8-sig'\u001b[39;00m\n\u001b[32m      4\u001b[39m df.head(\u001b[32m3\u001b[39m)\u001b[38;5;66;03m## Visualiza e mostra na tela \u001b[39;00m\n",
      "\u001b[31mNameError\u001b[39m: name 'df' is not defined"
     ]
    }
   ],
   "source": [
    "pasta_destino_json= r\"C:\\Users\\lucas\\OneDrive\\Portfólio\\Arquivo_Original\"\n",
    "df = pd.read_json(caminho_do_arquivo, encoding='utf-8-sig')##Esse comando serve para pegar o nosso arquivo json que e todo bagunçado e traduzir para o ecoding 'utf-8-sig'\n",
    "df.head(3)## Visualiza e mostra na tela \n",
    "print(\"Salvo com sucesso!!\")\n"
   ]
  },
  {
   "cell_type": "code",
   "execution_count": null,
   "id": "e062dad9",
   "metadata": {},
   "outputs": [],
   "source": [
    "##Parâmetros de conexão\n",
    "dbname =   'Port_Mineracao'\n",
    "user =     'postgres'\n",
    "password = '901012'\n",
    "host =     'localhost'\n",
    "port =     '5432'\n",
    "\n",
    "conexao_str = f'postgresql://{user}:{password}@{host}:{port}/{dbname}'\n",
    "engine = create_engine(conexao_str)\n",
    "\n",
    "query = \"\"\" \n",
    "select \n",
    "\"Matricula_FSTD\",\t\n",
    "\"Matriculas_Estrangeira\",\t\n",
    "\"AeronaveSimulada\",\t\n",
    "\"Nivel\",\t\n",
    "\"OperadorDoSimulador\",\t\n",
    "\"Endereco\"\n",
    "from public.anac_sqlalchemy\n",
    "\n",
    "\"\"\"\n",
    "df= pd.read_sql_query(query,engine)"
   ]
  },
  {
   "cell_type": "code",
   "execution_count": null,
   "id": "96f0bb90",
   "metadata": {},
   "outputs": [
    {
     "ename": "NameError",
     "evalue": "name 'df' is not defined",
     "output_type": "error",
     "traceback": [
      "\u001b[31m---------------------------------------------------------------------------\u001b[39m",
      "\u001b[31mNameError\u001b[39m                                 Traceback (most recent call last)",
      "\u001b[36mCell\u001b[39m\u001b[36m \u001b[39m\u001b[32mIn[5]\u001b[39m\u001b[32m, line 2\u001b[39m\n\u001b[32m      1\u001b[39m pasta_destino_json= \u001b[33mr\u001b[39m\u001b[33m\"\u001b[39m\u001b[33mC:\u001b[39m\u001b[33m\\\u001b[39m\u001b[33mUsers\u001b[39m\u001b[33m\\\u001b[39m\u001b[33mlucas\u001b[39m\u001b[33m\\\u001b[39m\u001b[33mOneDrive\u001b[39m\u001b[33m\\\u001b[39m\u001b[33mPortfólio\u001b[39m\u001b[33m\\\u001b[39m\u001b[33mArquivo_Original\u001b[39m\u001b[33m\"\u001b[39m\n\u001b[32m----> \u001b[39m\u001b[32m2\u001b[39m \u001b[43mdf\u001b[49m.to_json(pasta_destino_json,orient=\u001b[33m\"\u001b[39m\u001b[33mrecords\u001b[39m\u001b[33m\"\u001b[39m,lines=\u001b[38;5;28;01mTrue\u001b[39;00m)\n\u001b[32m      3\u001b[39m df = pd.read_json(caminho_do_arquivo, encoding=\u001b[33m'\u001b[39m\u001b[33mutf-8-sig\u001b[39m\u001b[33m'\u001b[39m)\u001b[38;5;66;03m##Esse comando serve para pegar o nosso arquivo json que e todo bagunçado e traduzir para o ecoding 'utf-8-sig'\u001b[39;00m\n\u001b[32m      4\u001b[39m df.head(\u001b[32m3\u001b[39m)\u001b[38;5;66;03m## Visualiza e mostra na tela \u001b[39;00m\n",
      "\u001b[31mNameError\u001b[39m: name 'df' is not defined"
     ]
    }
   ],
   "source": []
  }
 ],
 "metadata": {
  "kernelspec": {
   "display_name": "Python 3",
   "language": "python",
   "name": "python3"
  },
  "language_info": {
   "codemirror_mode": {
    "name": "ipython",
    "version": 3
   },
   "file_extension": ".py",
   "mimetype": "text/x-python",
   "name": "python",
   "nbconvert_exporter": "python",
   "pygments_lexer": "ipython3",
   "version": "3.12.3"
  }
 },
 "nbformat": 4,
 "nbformat_minor": 5
}
