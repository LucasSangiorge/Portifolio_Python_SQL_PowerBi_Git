{
 "cells": [
  {
   "cell_type": "code",
   "execution_count": 35,
   "id": "d9232753",
   "metadata": {},
   "outputs": [],
   "source": [
    "import pandas as pd\n",
    "import json\n",
    "from pathlib import Path \n",
    "from sqlalchemy import create_engine, Integer, String, Date, VARCHAR, text # import psycog2\n",
    "from datetime import datetime,timedelta"
   ]
  },
  {
   "cell_type": "code",
   "execution_count": 36,
   "id": "fef40202",
   "metadata": {},
   "outputs": [],
   "source": [
    "caminho_json = Path(r\"C:\\Users\\lucas\\OneDrive\\Portfólio\\Arquivo_Original\\mine_dados.json\")\n",
    "\n",
    "#Ler o json\n",
    "with open(caminho_json, 'r', encoding='utf-8-sig') as f:\n",
    "    dados = json.load(f)\n",
    "dfs = {tabela: pd.DataFrame(conteudo) for tabela, conteudo in dados.items()}\n"
   ]
  },
  {
   "cell_type": "code",
   "execution_count": 37,
   "id": "e062dad9",
   "metadata": {},
   "outputs": [
    {
     "name": "stdout",
     "output_type": "stream",
     "text": [
      "Deu certo!!!\n"
     ]
    }
   ],
   "source": [
    "##Parâmetros de conexão\n",
    "dbname =   'Port_Mineracao'\n",
    "user =     'postgres'\n",
    "password = '901012'\n",
    "host =     'localhost'\n",
    "port =     '5432'\n",
    "\n",
    "engine = create_engine(f\"postgresql+psycopg2://{user}:{password}@{host}:{port}/{dbname}\")\n",
    "print(\"Deu certo!!!\")"
   ]
  },
  {
   "cell_type": "code",
   "execution_count": null,
   "id": "96f0bb90",
   "metadata": {},
   "outputs": [],
   "source": []
  }
 ],
 "metadata": {
  "kernelspec": {
   "display_name": "Python 3",
   "language": "python",
   "name": "python3"
  },
  "language_info": {
   "codemirror_mode": {
    "name": "ipython",
    "version": 3
   },
   "file_extension": ".py",
   "mimetype": "text/x-python",
   "name": "python",
   "nbconvert_exporter": "python",
   "pygments_lexer": "ipython3",
   "version": "3.12.3"
  }
 },
 "nbformat": 4,
 "nbformat_minor": 5
}
