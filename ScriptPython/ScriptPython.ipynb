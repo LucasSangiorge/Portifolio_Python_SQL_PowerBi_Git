{
 "cells": [
  {
   "cell_type": "code",
   "execution_count": 81,
   "id": "d9232753",
   "metadata": {},
   "outputs": [],
   "source": [
    "import pandas as pd\n",
    "import json\n",
    "from pathlib import Path \n",
    "from sqlalchemy import create_engine, Integer, String, Date, VARCHAR, text # import psycog2\n",
    "from datetime import datetime,timedelta"
   ]
  },
  {
   "cell_type": "code",
   "execution_count": 83,
   "id": "fef40202",
   "metadata": {},
   "outputs": [
    {
     "name": "stdout",
     "output_type": "stream",
     "text": [
      "Tabela 'maquinas' Enviada com sucesso!\n",
      "Tabela 'operadores' Enviada com sucesso!\n",
      "Tabela 'manutencoes' Enviada com sucesso!\n",
      "Tabela 'incidentes' Enviada com sucesso!\n",
      "KPIs exportados com sucesso para 'kpis_mineracao.csv'!\n",
      "Pipeline concluído com sucesso!\n"
     ]
    }
   ],
   "source": [
    "caminho_json = Path(r\"C:\\Users\\lucas\\OneDrive\\Portfólio\\Arquivo_Original\\mine_dados.json\")\n",
    "\n",
    "#Ler o json\n",
    "with open(caminho_json, 'r', encoding='utf-8-sig') as f:\n",
    "    dados = json.load(f)\n",
    "\n",
    "dfs = {tabela: pd.DataFrame(conteudo) for tabela, conteudo in dados.items()}\n",
    "\n",
    "##Parâmetros de conexão\n",
    "dbname =   'Port_Mineracao'\n",
    "user =     'postgres'\n",
    "password = '901012'\n",
    "host =     'localhost'\n",
    "port =     '5432'\n",
    "\n",
    "engine = create_engine(f\"postgresql+psycopg2://{user}:{password}@{host}:{port}/{dbname}\")\n",
    "\n",
    "\n",
    "for tabela, df in dfs.items():\n",
    "    df.to_sql(tabela, engine, index=False, if_exists='replace')\n",
    "    print(f\"Tabela '{tabela}' Enviada com sucesso!\")\n",
    "\n",
    "query = \"\"\"\n",
    "        SELECT \n",
    "            m.id_maquina,\n",
    "            m.tipo AS tipo_maquina,\n",
    "            m.status,\n",
    "            STRING_AGG(DISTINCT ma.responsavel, ', ') AS responsaveis_manutencao,\n",
    "            ma.tipo AS tipo_manutencao,\n",
    "            COALESCE(i.gravidade, 'Sem ocorrências') AS nivel_gravidade,\n",
    "            COUNT(i.id_incidente) AS total_incidentes,\n",
    "            m.data_aquisicao,\n",
    "            COALESCE(SUM(ma.custo), 0) AS custo_total_manutencao\n",
    "            \n",
    "        FROM       maquinas    m\n",
    "        LEFT JOIN  manutencoes ma  ON m.id_maquina = ma.id_maquina\n",
    "        LEFT JOIN  incidentes  i   ON m.id_maquina = i.id_maquina\n",
    "        GROUP BY \n",
    "            m.id_maquina,\n",
    "            m.tipo,\n",
    "            m.status,\n",
    "            m.data_aquisicao,\n",
    "            ma.tipo,\n",
    "            i.gravidade\n",
    "        ORDER BY \n",
    "        m.id_maquina;\n",
    "\"\"\"\n",
    "\n",
    "# 3️⃣ Executar a query e carregar no pandas\n",
    "kpis = pd.read_sql(query, engine)\n",
    "\n",
    "# 4️⃣ Salvar em CSV para Power BI\n",
    "kpis.to_csv(\"kpis_mineracao.csv\", index=False, encoding='utf-8-sig')\n",
    "print(\"KPIs exportados com sucesso para 'kpis_mineracao.csv'!\")\n",
    "\n",
    "# 5️⃣ Fechar conexão\n",
    "engine.dispose()\n",
    "print(\"Pipeline concluído com sucesso!\")\n"
   ]
  }
 ],
 "metadata": {
  "kernelspec": {
   "display_name": "Python 3",
   "language": "python",
   "name": "python3"
  },
  "language_info": {
   "codemirror_mode": {
    "name": "ipython",
    "version": 3
   },
   "file_extension": ".py",
   "mimetype": "text/x-python",
   "name": "python",
   "nbconvert_exporter": "python",
   "pygments_lexer": "ipython3",
   "version": "3.12.3"
  }
 },
 "nbformat": 4,
 "nbformat_minor": 5
}
